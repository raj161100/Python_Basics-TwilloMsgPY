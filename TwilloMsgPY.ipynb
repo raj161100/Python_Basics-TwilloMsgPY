{
 "cells": [
  {
   "cell_type": "code",
   "execution_count": null,
   "metadata": {},
   "outputs": [],
   "source": [
    "from twillo.rest import Client\n",
    "#You need a Twillo Accunt for the project code to work\n",
    "#The followin line needs your Twillo Account SID and Auth Token\n",
    "client = Client(\"Account SID Here\", \"Auth Token Here\")\n",
    "\n",
    "client.message.create(to=\"+91YourNumberThroughwhichulogedinTwillo\",\n",
    "                     from_=\"+TwilloNumberHere\",\n",
    "                     body=\"The Message you wanna send\")\n"
   ]
  },
  {
   "cell_type": "code",
   "execution_count": null,
   "metadata": {},
   "outputs": [],
   "source": [
    "pip install twillo"
   ]
  }
 ],
 "metadata": {
  "kernelspec": {
   "display_name": "Python 3",
   "language": "python",
   "name": "python3"
  },
  "language_info": {
   "codemirror_mode": {
    "name": "ipython",
    "version": 3
   },
   "file_extension": ".py",
   "mimetype": "text/x-python",
   "name": "python",
   "nbconvert_exporter": "python",
   "pygments_lexer": "ipython3",
   "version": "3.6.5"
  }
 },
 "nbformat": 4,
 "nbformat_minor": 2
}
